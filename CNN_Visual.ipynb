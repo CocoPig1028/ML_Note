{
 "cells": [
  {
   "cell_type": "code",
   "execution_count": 1,
   "id": "25802162",
   "metadata": {},
   "outputs": [
    {
     "name": "stderr",
     "output_type": "stream",
     "text": [
      "2023-11-26 22:47:01.921529: I metal_plugin/src/device/metal_device.cc:1154] Metal device set to: Apple M1\n",
      "2023-11-26 22:47:01.921546: I metal_plugin/src/device/metal_device.cc:296] systemMemory: 8.00 GB\n",
      "2023-11-26 22:47:01.921550: I metal_plugin/src/device/metal_device.cc:313] maxCacheSize: 2.67 GB\n",
      "2023-11-26 22:47:01.921574: I tensorflow/core/common_runtime/pluggable_device/pluggable_device_factory.cc:306] Could not identify NUMA node of platform GPU ID 0, defaulting to 0. Your kernel may not have been built with NUMA support.\n",
      "2023-11-26 22:47:01.921586: I tensorflow/core/common_runtime/pluggable_device/pluggable_device_factory.cc:272] Created TensorFlow device (/job:localhost/replica:0/task:0/device:GPU:0 with 0 MB memory) -> physical PluggableDevice (device: 0, name: METAL, pci bus id: <undefined>)\n"
     ]
    }
   ],
   "source": [
    "from tensorflow import keras\n",
    "\n",
    "model = keras.models.load_model('best-cnn-model.h5')"
   ]
  },
  {
   "cell_type": "code",
   "execution_count": 2,
   "id": "b84baa7f",
   "metadata": {},
   "outputs": [
    {
     "data": {
      "text/plain": [
       "[<keras.src.layers.convolutional.conv2d.Conv2D at 0x169835570>,\n",
       " <keras.src.layers.pooling.max_pooling2d.MaxPooling2D at 0x169836950>,\n",
       " <keras.src.layers.convolutional.conv2d.Conv2D at 0x169836770>,\n",
       " <keras.src.layers.pooling.max_pooling2d.MaxPooling2D at 0x169836380>,\n",
       " <keras.src.layers.reshaping.flatten.Flatten at 0x169836c80>,\n",
       " <keras.src.layers.core.dense.Dense at 0x169b983d0>,\n",
       " <keras.src.layers.regularization.dropout.Dropout at 0x169b991b0>,\n",
       " <keras.src.layers.core.dense.Dense at 0x169b990f0>]"
      ]
     },
     "execution_count": 2,
     "metadata": {},
     "output_type": "execute_result"
    }
   ],
   "source": [
    "model.layers"
   ]
  },
  {
   "cell_type": "code",
   "execution_count": 3,
   "id": "0d9078ad",
   "metadata": {},
   "outputs": [
    {
     "name": "stdout",
     "output_type": "stream",
     "text": [
      "(3, 3, 1, 32) (32,)\n"
     ]
    }
   ],
   "source": [
    "conv = model.layers[0]\n",
    "print(conv.weights[0].shape, conv.weights[1].shape)\n",
    "# print(conv.weights[0])\n",
    "# 가중치\n",
    "# print(conv.weights[1])\n",
    "# 절편"
   ]
  },
  {
   "cell_type": "code",
   "execution_count": 4,
   "id": "1e67e464",
   "metadata": {},
   "outputs": [
    {
     "name": "stdout",
     "output_type": "stream",
     "text": [
      "-0.03129395 0.09632801\n"
     ]
    }
   ],
   "source": [
    "conv_weights = conv.weights[0].numpy()\n",
    "print(conv_weights.mean(), conv_weights.std())"
   ]
  },
  {
   "cell_type": "code",
   "execution_count": 5,
   "id": "32d6731b",
   "metadata": {},
   "outputs": [
    {
     "data": {
      "image/png": "[encoded data removed]",
      "text/plain": [
       "<Figure size 640x480 with 1 Axes>"
      ]
     },
     "metadata": {},
     "output_type": "display_data"
    }
   ],
   "source": [
    "import matplotlib.pyplot as plt\n",
    "plt.hist(conv_weights.reshape(-1, 1))\n",
    "plt.xlabel('weight')\n",
    "plt.ylabel('count')\n",
    "plt.show()"
   ]
  },
  {
   "cell_type": "code",
   "execution_count": 6,
   "id": "155c965f",
   "metadata": {
    "scrolled": false
   },
   "outputs": [],
   "source": [
    "# fig, axs = plt.subplots(2, 16, figsize=(15, 2))\n",
    "# for i in range(2):\n",
    "#     for j in range(16):\n",
    "#         axs[i, j].imshow(conv_weights[:,:,0,i*16 + j], vmin=-0.5, vmax=0.5)\n",
    "#         axs[i, j].axis('off')\n",
    "#     plt.show()"
   ]
  },
  {
   "cell_type": "code",
   "execution_count": 7,
   "id": "15ca9e6f",
   "metadata": {},
   "outputs": [
    {
     "data": {
      "image/png": "[encoded data removed]",
      "text/plain": [
       "<Figure size 1200x200 with 32 Axes>"
      ]
     },
     "metadata": {},
     "output_type": "display_data"
    }
   ],
   "source": [
    "fig, axs = plt.subplots(1, 32, figsize=(12, 2))\n",
    "for i in range(32):\n",
    "    axs[i].imshow(conv_weights[:,:,0,i], vmin=-0.5, vmax=0.5)\n",
    "    axs[i].axis('off')"
   ]
  },
  {
   "cell_type": "code",
   "execution_count": 8,
   "id": "79f31f71",
   "metadata": {},
   "outputs": [],
   "source": [
    "no_training_model = keras.Sequential()\n",
    "no_training_model.add(keras.layers.Conv2D(32, kernel_size=3, activation='relu', padding='same', input_shape=(28, 28, 1)))"
   ]
  },
  {
   "cell_type": "code",
   "execution_count": 9,
   "id": "3beb40c5",
   "metadata": {},
   "outputs": [
    {
     "name": "stdout",
     "output_type": "stream",
     "text": [
      "(3, 3, 1, 32)\n"
     ]
    }
   ],
   "source": [
    "no_training_conv = no_training_model.layers[0]\n",
    "print(no_training_conv.weights[0].shape)"
   ]
  },
  {
   "cell_type": "code",
   "execution_count": 10,
   "id": "96418135",
   "metadata": {},
   "outputs": [
    {
     "name": "stdout",
     "output_type": "stream",
     "text": [
      "-0.0033780697 0.081844784\n"
     ]
    }
   ],
   "source": [
    "no_training_weights = no_training_conv.weights[0].numpy()\n",
    "print(no_training_weights.mean(), no_training_weights.std())"
   ]
  },
  {
   "cell_type": "code",
   "execution_count": 11,
   "id": "28c0fd0a",
   "metadata": {},
   "outputs": [
    {
     "data": {
      "image/png": "[encoded data removed]",
      "text/plain": [
       "<Figure size 640x480 with 1 Axes>"
      ]
     },
     "metadata": {},
     "output_type": "display_data"
    }
   ],
   "source": [
    "plt.hist(no_training_weights.reshape(-1, 1))\n",
    "plt.xlabel('weights')\n",
    "plt.ylabel('count')\n",
    "plt.show()"
   ]
  },
  {
   "cell_type": "code",
   "execution_count": 12,
   "id": "e28da06d",
   "metadata": {},
   "outputs": [
    {
     "data": {
      "image/png": "[encoded data removed]",
      "text/plain": [
       "<Figure size 1200x200 with 32 Axes>"
      ]
     },
     "metadata": {},
     "output_type": "display_data"
    }
   ],
   "source": [
    "fig, axs = plt.subplots(1, 32, figsize=(12, 2))\n",
    "for i in range(32):\n",
    "    axs[i].imshow(no_training_weights[:,:,0,i], vmin=-0.5, vmax=0.5)\n",
    "    axs[i].axis('off')"
   ]
  },
  {
   "cell_type": "code",
   "execution_count": 13,
   "id": "27fa03be",
   "metadata": {},
   "outputs": [],
   "source": [
    "# 함수형 API\n",
    "# 함수처럼 호출 가능\n",
    "# dense1 = keras.layers.Dense(100, activation='sigmoid')\n",
    "# dense1 = keras.layers.Dense(10, activation='softmax')\n",
    "# hidden = dense1(inputs)\n",
    "# outputs = dense2(hidden)\n",
    "# model = keras.Model(inputs, outputs)\n",
    "# inputs = keras.Input(shape=(784,))"
   ]
  },
  {
   "cell_type": "code",
   "execution_count": 14,
   "id": "89060c28",
   "metadata": {},
   "outputs": [
    {
     "name": "stdout",
     "output_type": "stream",
     "text": [
      "KerasTensor(type_spec=TensorSpec(shape=(None, 28, 28, 1), dtype=tf.float32, name='conv2d_input'), name='conv2d_input', description=\"created by layer 'conv2d_input'\")\n"
     ]
    }
   ],
   "source": [
    "print(model.input)"
   ]
  },
  {
   "cell_type": "code",
   "execution_count": 19,
   "id": "ab16547e",
   "metadata": {},
   "outputs": [],
   "source": [
    "conv_acti = keras.Model(model.input, model.layers[0].output)\n",
    "# 첫번째 컨볼루션만 떼오는 것이라고 생각"
   ]
  },
  {
   "cell_type": "code",
   "execution_count": 20,
   "id": "53df1cc0",
   "metadata": {},
   "outputs": [
    {
     "data": {
      "image/png": "[encoded data removed]",
      "text/plain": [
       "<Figure size 640x480 with 1 Axes>"
      ]
     },
     "metadata": {},
     "output_type": "display_data"
    }
   ],
   "source": [
    "(train_input, train_target), (test_input, test_target) =\\\n",
    "    keras.datasets.fashion_mnist.load_data()\n",
    "plt.imshow(train_input[0], cmap='gray_r')\n",
    "plt.show()"
   ]
  },
  {
   "cell_type": "code",
   "execution_count": 21,
   "id": "2b70b80c",
   "metadata": {},
   "outputs": [
    {
     "name": "stdout",
     "output_type": "stream",
     "text": [
      "1/1 [==============================] - 0s 37ms/step\n"
     ]
    }
   ],
   "source": [
    "inputs = train_input[0:1].reshape(-1, 28, 28, 1) / 255.0\n",
    "feature_maps = conv_acti.predict(inputs)\n",
    "# 첫번째 신발만 따옴"
   ]
  },
  {
   "cell_type": "code",
   "execution_count": 23,
   "id": "304cd94a",
   "metadata": {},
   "outputs": [
    {
     "name": "stdout",
     "output_type": "stream",
     "text": [
      "(1, 28, 28, 32)\n"
     ]
    }
   ],
   "source": [
    "print(feature_maps.shape)\n",
    "# 세임 패딩 32개의 필터를 사용한 합성곱 층의 출력 -> (28, 28, 32)\n",
    "# 첫번째 차원은 배치 차원 -> 샘플이 하나이기 때문에 1"
   ]
  },
  {
   "cell_type": "code",
   "execution_count": 25,
   "id": "f28dfaf9",
   "metadata": {},
   "outputs": [
    {
     "data": {
      "image/png": "[encoded data removed]",
      "text/plain": [
       "<Figure size 1500x800 with 32 Axes>"
      ]
     },
     "metadata": {},
     "output_type": "display_data"
    }
   ],
   "source": [
    "fig, axs = plt.subplots(4, 8, figsize=(15, 8))\n",
    "for i in range(4):\n",
    "    for j in range(8):\n",
    "        axs[i, j].imshow(feature_maps[0,:,:,i*8 + j])\n",
    "        axs[i, j].axis('off')\n",
    "plt.show()"
   ]
  },
  {
   "cell_type": "code",
   "execution_count": 26,
   "id": "3524e9f0",
   "metadata": {},
   "outputs": [],
   "source": [
    "# 위의 특성맵은 32개의 필터로 인해 입력 이미지에서 강하게 활성화된 부분을 보여줌\n",
    "conv2_acti = keras.Model(model.input, model.layers[2].output)"
   ]
  },
  {
   "cell_type": "code",
   "execution_count": 27,
   "id": "b9efa414",
   "metadata": {},
   "outputs": [
    {
     "name": "stdout",
     "output_type": "stream",
     "text": [
      "1/1 [==============================] - 0s 122ms/step\n"
     ]
    }
   ],
   "source": [
    "inputs = train_input[0:1].reshape(-1, 28, 28, 1) / 255.0\n",
    "feature_maps = conv2_acti.predict(inputs)"
   ]
  },
  {
   "cell_type": "code",
   "execution_count": 29,
   "id": "0805ad92",
   "metadata": {},
   "outputs": [
    {
     "name": "stdout",
     "output_type": "stream",
     "text": [
      "(1, 14, 14, 32)\n"
     ]
    }
   ],
   "source": [
    "print(feature_maps.shape)"
   ]
  },
  {
   "cell_type": "code",
   "execution_count": 36,
   "id": "2bcaaefe",
   "metadata": {},
   "outputs": [
    {
     "data": {
      "image/png": "[encoded data removed]",
      "text/plain": [
       "<Figure size 1000x1000 with 32 Axes>"
      ]
     },
     "metadata": {},
     "output_type": "display_data"
    }
   ],
   "source": [
    "fig, axs = plt.subplots(4, 8, figsize=(10, 10))\n",
    "for i in range(4):\n",
    "    for j in range(8):\n",
    "        axs[i, j].imshow(feature_maps[0,:,:,i*8 + j])\n",
    "        axs[i, j].axis('off')\n",
    "plt.show()"
   ]
  },
  {
   "cell_type": "markdown",
   "id": "631f4304",
   "metadata": {},
   "source": [
    "가중치 시각화, 특성 맵 시각화, 함수형 API<br/>\n",
    "TensorFlow: Model"
   ]
  }
 ],
 "metadata": {
  "kernelspec": {
   "display_name": "Python 3 (ipykernel)",
   "language": "python",
   "name": "python3"
  },
  "language_info": {
   "codemirror_mode": {
    "name": "ipython",
    "version": 3
   },
   "file_extension": ".py",
   "mimetype": "text/x-python",
   "name": "python",
   "nbconvert_exporter": "python",
   "pygments_lexer": "ipython3",
   "version": "3.10.12"
  },
  "toc": {
   "base_numbering": 1,
   "nav_menu": {},
   "number_sections": true,
   "sideBar": true,
   "skip_h1_title": false,
   "title_cell": "Table of Contents",
   "title_sidebar": "Contents",
   "toc_cell": false,
   "toc_position": {},
   "toc_section_display": true,
   "toc_window_display": false
  }
 },
 "nbformat": 4,
 "nbformat_minor": 5
}
