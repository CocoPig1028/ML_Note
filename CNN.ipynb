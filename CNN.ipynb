{
 "cells": [
  {
   "cell_type": "markdown",
   "id": "1a6e95eb",
   "metadata": {},
   "source": [
    "합성곱: 입력 데이터에서 마법의 도장을 찍어 유용한 특성만 드러나게 하는것<br/>\n",
    "밀집층에는 뉴런마다 입력 개수만큼의 가중치가 존재<br/>\n",
    "x1 * w1 + x2 * w2 +... xn * wn + b<br/>\n",
    "인공 신경망의 경우 처음에 가중치와 편향을 랜덤하게 초기화<br/>\n",
    "그 다음 에포크를 반복하면서 경사 하강법 알고리즘을 사용하여 손실이 낮아지도록 최적의 가중치와 절편을 찾음<br/>\n",
    "-> 모델 훈련<br/>\n",
    "\n",
    "MNIST 기분 784 픽셀을 입력받는 은닉층의 뉴런 개수가 100개면 뉴런마다 하나씩 출력도 100개가 된다.<br/>\n",
    "합성곱은 밀집층의 계산과 조금 다름<br/>\n",
    "입력 데이터 전체에 가중치를 적용하는 것이 아니라 일부에 가중치를 곱함<br/>\n",
    "x1 * w1 + x2 * w2 + x3 * w3 + b -> 1개의 출력<br/>\n",
    "이때 가중치가 w1, w2, w3 -> w3, w2, w1 순으로 가중치 바뀜<br/>\n",
    "한칸 아래로 내려가 또 새로운 1개의 출력 -> x2 * w1 + x3 * w2 + x4 + w3 + b<br/>\n",
    "같은 가중치와 편향을 사용<br/>\n",
    "\n",
    "이전의 신경망 층은 뉴런이 길게 늘어서 있고 서로 조밀하게 연결<br/>\n",
    "뉴런이 입력 위를 이동하면서 출력을 만들기 때문에 이런식으로 표현이 어려움<br/>\n",
    "뉴런이라고 하기에도 어색 -> 합성곱 신경망이라고 함<br/>\n",
    "완전 연결 신경망과 달리 뉴런을 필터라고 부름 or 커널<br/>\n",
    "커널은 입력에 곱하는 가중치<br/>\n",
    "필터는 뉴런 개수를 표현<br/>\n",
    "\n",
    "입력이 2차원 -> 필터도 2차원<br/>\n",
    "from tensorflow import keras<br/>\n",
    "keras.layers.Conv2D(10, kernel_size=(3, 3), activation='relu')<br/>\n",
    "3 x 3의 컨볼루션 필터를 만든다.<br/>\n",
    "6 x 6 입력 데이터 -> 3 * 3 컨볼루션 -> 4 x 4<br/>\n",
    "입력 배열 주위의 가상의 원소로 채우는 것 패딩<br/>\n",
    "0으로 채우면 세임 패딩<br/>\n",
    "4 x 4에 1의 세임 패딩 하면 6 x 6<br/>\n",
    "0으로 채우면 세임패딩<br/>\n",
    "패딩 없이 순수한 입력 배열에서만 합성곱을 하여 특성 맵을 만드는 경우 -> 밸리드 패딩 -> 특성 맵의 크기가 줄어듬<br/>\n",
    "패딩을 사용하는 이유: 패딩이 없다면 4 x 4 크기의 입력에 패딩 없이 합성곱을 한다면 네 모서리에 있는 꼭짓점의 값은 커널 도장에 딱 한 번만 찍힘<br/>\n",
    "다른 원소들은 2번 이상 커널과 계산이 됨 -> 이미지라고 생각하면 모서리에 있는 중요한 정보가 특성 맵으로 잘 전달되지 않을 가능성이 높음<br/>\n",
    "반면 가운데 있는 정보는 두드러지게 표현<br/>\n",
    "keras.layers.Conv2D(10, kernel_size=(3,3), activation='relu', padding='same')<br/>"
   ]
  },
  {
   "cell_type": "code",
   "execution_count": 2,
   "id": "15244a04",
   "metadata": {},
   "outputs": [
    {
     "data": {
      "text/plain": [
       "<keras.src.layers.convolutional.conv2d.Conv2D at 0x105d273d0>"
      ]
     },
     "execution_count": 2,
     "metadata": {},
     "output_type": "execute_result"
    }
   ],
   "source": [
    "from tensorflow import keras\n",
    "\n",
    "keras.layers.Conv2D(10, kernel_size=(3,3), activation='relu', padding='same', strides=1)\n",
    "# strides 매개변수는 오른쪽으로 이동하는 크기와 아래쪽으로 이동하는 크기를 (1,1)과 같이 튜플을 사용하여 지정 가능\n",
    "# 보통 이동 크기를 가로세로 방향으로 다르게 지정하는 경우는 없음\n",
    "# 크기도 1보다 크게 사용하는 경우는 드물다"
   ]
  },
  {
   "cell_type": "markdown",
   "id": "749291b0",
   "metadata": {},
   "source": [
    "풀링: 합성곱 층에서 만든 특성 맵의 가로세로 크기를 줄이는 역할을 수행<br/>\n",
    "특성 맵의 개수는 줄이지 않음<br/>\n",
    "(2,2,3) -> (1,1,3) 크기의 특성맵이 된다.<br/>\n",
    "풀링도 합성곱처럼 입력 위를 지나가며 도장을 찍음<br/>\n",
    "풀링에는 다른 점이 가중치가 없다는 것<br/>\n",
    "도장을 찍은 영역에서 가장 크거나 평균 값을 계산<br/>\n",
    "최대 풀링 & 평균 풀링<br/>\n",
    "4 x 4 에 2 x 2 최대 풀링을 적용 -> 각 영역에서 큰 값이 추출 -> 2 x 2로 크기가 줄어든다.<br/>\n",
    "<br/>\n",
    "합성곱 신경망에서는 합성곱 층과 풀링 층에서 출력되는 값을 모두 특성 맵이라고 부름<br/>\n",
    "<br/>\n",
    "keras.layers.MaxPooling2D(2)<br/>\n",
    "풀링의 크기 2인 풀링 레이어 -> 가로 세로 크기를 절반으로 줄임<br/>\n",
    "풀링의 크기를 튜플로 지정 가능 -> (2, 3)<br/>\n",
    "합성곱 층과 마찬가지로 strides와 padding 매개변수를 제공<br/>\n",
    "strides의 기본 값은 자동으로 풀링의 크기<br/>\n",
    "padding의 기본값은 'valid'로 패딩을 하지 않는다.<br/>\n",
    "keras.layers.MaxPooling2D(2, strides=2, padding='valid')"
   ]
  },
  {
   "cell_type": "markdown",
   "id": "78a4caad",
   "metadata": {},
   "source": [
    "컬러이미지를 사용한 합성곱<br/>\n",
    "RGB로 구성되어 있음<br/>\n",
    "3차원 배열로 표시 가능<br/>\n",
    "(4, 4)의 R, G, B가 있기 때문에 (4, 4, 3)<br/>\n",
    "깊이가 있는 합성곱을 수행하기 위해서는 도장도 깊이가 필요함 -> (3, 3, 3)의 커널 배열 사용<br/>\n",
    "-> 커널 배열의 깊이는 항상 입력의 깊이와 같아야함<br/>"
   ]
  }
 ],
 "metadata": {
  "kernelspec": {
   "display_name": "Python 3 (ipykernel)",
   "language": "python",
   "name": "python3"
  },
  "language_info": {
   "codemirror_mode": {
    "name": "ipython",
    "version": 3
   },
   "file_extension": ".py",
   "mimetype": "text/x-python",
   "name": "python",
   "nbconvert_exporter": "python",
   "pygments_lexer": "ipython3",
   "version": "3.10.12"
  },
  "toc": {
   "base_numbering": 1,
   "nav_menu": {},
   "number_sections": true,
   "sideBar": true,
   "skip_h1_title": false,
   "title_cell": "Table of Contents",
   "title_sidebar": "Contents",
   "toc_cell": false,
   "toc_position": {},
   "toc_section_display": true,
   "toc_window_display": false
  }
 },
 "nbformat": 4,
 "nbformat_minor": 5
}
